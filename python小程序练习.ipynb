{
 "cells": [
  {
   "cell_type": "code",
   "execution_count": 3,
   "metadata": {
    "collapsed": true,
    "pycharm": {
     "is_executing": false
    }
   },
   "outputs": [
    {
     "name": "stdout",
     "output_type": "stream",
     "text": [
      "not found\n",
      "haha ['120', '120@', 'yiyuan']\n"
     ]
    }
   ],
   "source": [
    "#以字典为基础建立通讯录\n",
    "d=dict()\n",
    "def add(name,phone,email,place):\n",
    "    d.update({name:[phone,email,place]})\n",
    "def delete(name):\n",
    "    del d[name]\n",
    "def search(name):\n",
    "    if name in d:\n",
    "            print(d[name])\n",
    "    else:\n",
    "        print(\"not found\")\n",
    "add('xixi','110','110@','guilin')\n",
    "add('haha','120','120@','yiyuan')\n",
    "delete('xixi')\n",
    "search('xixi')\n",
    "for k,v in d.items():\n",
    "    print(k,v)"
   ]
  },
  {
   "cell_type": "code",
   "execution_count": 1,
   "metadata": {
    "pycharm": {
     "is_executing": false,
     "metadata": false,
     "name": "#%%\n"
    }
   },
   "outputs": [
    {
     "name": "stdout",
     "output_type": "stream",
     "text": [
      "12.57 12.57 50.27 41.34\n"
     ]
    }
   ],
   "source": [
    "#计算圆周长面积及球表面积体积\n",
    "import math\n",
    "r = float(input(\"请输入一个半径\"))\n",
    "c = 2*math.pi*r  #圆周长\n",
    "s = math.pi*r**2  #圆面积\n",
    "bs = 4*math.pi*r**2  #球表面积\n",
    "v = (4/3)*math.pi**3  #球体积\n",
    "print('%.2f'%(c),'%.2f'%(s),'%.2f'%(bs),'%.2f'%(v))"
   ]
  },
  {
   "cell_type": "code",
   "execution_count": 28,
   "metadata": {
    "pycharm": {
     "is_executing": false,
     "metadata": false,
     "name": "#%%\n"
    }
   },
   "outputs": [
    {
     "name": "stdout",
     "output_type": "stream",
     "text": [
      "2.00转换华氏温度35.60\n"
     ]
    }
   ],
   "source": [
    "#华氏温度转变为摄氏温度\n",
    "c = float(input(\"输入摄氏温度：\"))\n",
    "h = (c*1.8) + 32 #华氏温度转换\n",
    "print('%.2f转换华氏温度%.2f'%(c,h)) #输出华氏温度"
   ]
  },
  {
   "cell_type": "code",
   "execution_count": 1,
   "metadata": {
    "pycharm": {
     "is_executing": false,
     "metadata": false,
     "name": "#%%\n"
    }
   },
   "outputs": [
    {
     "name": "stdout",
     "output_type": "stream",
     "text": [
      "57\n",
      "27\n",
      "95\n",
      "8\n",
      "63\n",
      "67\n",
      "78\n",
      "71\n",
      "97\n",
      "16\n",
      "76\n",
      "48\n",
      "35\n",
      "19\n",
      "70\n",
      "38\n",
      "24\n",
      "77\n",
      "6\n",
      "36\n",
      "\n"
     ]
    }
   ],
   "source": [
    "import random\n",
    "f = open('E:/pycharm/project/data.txt','w+') #创建一个文件\n",
    "for i in range(20): #行数\n",
    "    f.write(str(random.randint(1,100)) + '\\n') #存放一个1-100之间整数\n",
    "f.seek(0)\n",
    "print(f.read())\n",
    "f.close()"
   ]
  },
  {
   "cell_type": "code",
   "execution_count": 4,
   "metadata": {
    "pycharm": {
     "is_executing": false,
     "metadata": false,
     "name": "#%%\n"
    }
   },
   "outputs": [
    {
     "name": "stdout",
     "output_type": "stream",
     "text": [
      "['我们的 共产党和共产党所领导的 八路军、 新四军，是革命的队伍。我们这个队伍完全是为着解放人民的，是彻底地为人民的利益工作的。', '张思德同志就是我们这个队伍中的一个同志。', '人总是要死的，但死的意义有不同。中国古时候有个文学家叫做 司马迁的说过： 人固有一死，或重于泰山，或轻于鸿毛。', '为人民利益而死，就比泰山还重；替 法西斯卖力，替剥削人民和压迫人民的人去死，就比鸿毛还轻。', '张思德同志是为人民利益而死的，他的死是比泰山还要重的。', '因为我们是为人民服务的，所以，我们如果有缺点，就不怕别人批评指出。不管是什么人，谁向我们指出都行。只要你说得对，我们就改正。', '你说的办法对人民有好处，我们就照你的办。', '“精兵简政”这一条意见，就是党外人士 李鼎铭先生提出来的；他提得好，对人民有好处，我们就采用了。', '只要我们为人民的利益坚持好的，为人民的利益改正错的，我们这个队伍就一定会兴旺起来。', '我们都是来自 五湖四海，为了一个共同的革命目标，走到一起来了。我们还要和全国大多数人民走这一条路。', '我们今天已经领导着有九千一百万人口的根据地，但是还不够，还要更大些，才能取得全民族的解放。', '我们的同志在困难的时候，要看到成绩，要看到光明，要提高我们的勇气。中国人民正在受难，我们有责任解救他们，我们要努力奋斗。', '要奋斗就会有牺牲，死人的事是经常发生的。但是我们想到人民的利益，想到大多数人民的痛苦，我们为人民而死，就是死得其所。', '不过，我们应当尽量地减少那些不必要的牺牲。我们的干部要关心每一个战士，一切革命队伍的人都要互相关心，互相爱护，互相帮助。', '今后我们的队伍里，不管死了谁，不管是炊事员，是战士，只要他是做过一些有益的工作的，我们都要给他送葬，开追悼会。', '这要成为一个制度。这个方法也要介绍到老百姓那里去。村上的人死了，开个追悼会。用这样的方法，寄托我们的哀思，使整个人民团结起来。']\n",
      "di 1行:我们的 共产党和共产党所领导的 八路军、 新四军，是革命的队伍。我们这个队伍完全是为着解放人民的，是彻底地为人民的利益工作的。\n",
      "di 2行:张思德同志就是我们这个队伍中的一个同志。\n",
      "di 3行:人总是要死的，但死的意义有不同。中国古时候有个文学家叫做 司马迁的说过： 人固有一死，或重于泰山，或轻于鸿毛。\n",
      "di 4行:为人民利益而死，就比泰山还重；替 法西斯卖力，替剥削人民和压迫人民的人去死，就比鸿毛还轻。\n",
      "di 5行:张思德同志是为人民利益而死的，他的死是比泰山还要重的。\n",
      "di 6行:因为我们是为人民服务的，所以，我们如果有缺点，就不怕别人批评指出。不管是什么人，谁向我们指出都行。只要你说得对，我们就改正。\n",
      "di 7行:你说的办法对人民有好处，我们就照你的办。\n",
      "di 8行:“精兵简政”这一条意见，就是党外人士 李鼎铭先生提出来的；他提得好，对人民有好处，我们就采用了。\n",
      "di 9行:只要我们为人民的利益坚持好的，为人民的利益改正错的，我们这个队伍就一定会兴旺起来。\n",
      "di 10行:我们都是来自 五湖四海，为了一个共同的革命目标，走到一起来了。我们还要和全国大多数人民走这一条路。\n",
      "di 11行:我们今天已经领导着有九千一百万人口的根据地，但是还不够，还要更大些，才能取得全民族的解放。\n",
      "di 12行:我们的同志在困难的时候，要看到成绩，要看到光明，要提高我们的勇气。中国人民正在受难，我们有责任解救他们，我们要努力奋斗。\n",
      "di 13行:要奋斗就会有牺牲，死人的事是经常发生的。但是我们想到人民的利益，想到大多数人民的痛苦，我们为人民而死，就是死得其所。\n",
      "di 14行:不过，我们应当尽量地减少那些不必要的牺牲。我们的干部要关心每一个战士，一切革命队伍的人都要互相关心，互相爱护，互相帮助。\n",
      "di 15行:今后我们的队伍里，不管死了谁，不管是炊事员，是战士，只要他是做过一些有益的工作的，我们都要给他送葬，开追悼会。\n",
      "di 16行:这要成为一个制度。这个方法也要介绍到老百姓那里去。村上的人死了，开个追悼会。用这样的方法，寄托我们的哀思，使整个人民团结起来。\n"
     ]
    }
   ],
   "source": [
    "def r_f():\n",
    "    list = []\n",
    "    try:\n",
    "        f = open('E:/pycharm/project/数据.txt','r')\n",
    "        while True :\n",
    "            s = f.readline() \n",
    "            if not s:\n",
    "                f.close()\n",
    "                return list\n",
    "            s = s.rstrip()\n",
    "            list.append(s)\n",
    "    except IOError:\n",
    "        print(\"Open Error.\")\n",
    "def print_f(list):\n",
    "    print(list)\n",
    "    for id,s in enumerate(list,1):\n",
    "        print(\"di {}行:{}\".format(id,s))\n",
    "def main():\n",
    "    print_f(r_f())\n",
    "main()\n"
   ]
  }
 ],
 "metadata": {
  "kernelspec": {
   "display_name": "Python 3",
   "language": "python",
   "name": "python3"
  },
  "language_info": {
   "codemirror_mode": {
    "name": "ipython",
    "version": 3
   },
   "file_extension": ".py",
   "mimetype": "text/x-python",
   "name": "python",
   "nbconvert_exporter": "python",
   "pygments_lexer": "ipython3",
   "version": "3.7.3"
  }
 },
 "nbformat": 4,
 "nbformat_minor": 1
}
