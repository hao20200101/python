{
 "cells": [
  {
   "cell_type": "code",
   "execution_count": 21,
   "metadata": {},
   "outputs": [
    {
     "name": "stderr",
     "output_type": "stream",
     "text": [
      "[nltk_data] Error loading movie_reviews: <urlopen error [Errno 11001]\n",
      "[nltk_data]     getaddrinfo failed>\n"
     ]
    }
   ],
   "source": [
    "# setupNLTK.py\n",
    "import nltk\n",
    "if __name__ == '__main__':\n",
    "    nltk.download('movie_reviews')"
   ]
  },
  {
   "cell_type": "code",
   "execution_count": 22,
   "metadata": {},
   "outputs": [],
   "source": [
    "import nltk.classify.util\n",
    "from nltk.classify import NaiveBayesClassifier\n",
    "from nltk.corpus import movie_reviews"
   ]
  },
  {
   "cell_type": "code",
   "execution_count": 25,
   "metadata": {},
   "outputs": [],
   "source": [
    "if __name__ == '__main__':\n",
    "    positive_fileids = movie_reviews.fileids('pos')\n",
    "    negative_fileids = movie_reviews.fileids('neg')\n",
    " "
   ]
  },
  {
   "cell_type": "code",
   "execution_count": 26,
   "metadata": {},
   "outputs": [],
   "source": [
    "def extract_features(word_list):\n",
    "    return dict([(word,True) for word in word_list])"
   ]
  },
  {
   "cell_type": "code",
   "execution_count": 27,
   "metadata": {},
   "outputs": [],
   "source": [
    "features_positive =[(extract_features(movie_reviews.words(fileids=[f])),'Positive') for f in positive_fileids]\n",
    "features_negative =[(extract_features(movie_reviews.words(fileids=[f])),'Negative') for f in negative_fileids]\n"
   ]
  },
  {
   "cell_type": "code",
   "execution_count": 31,
   "metadata": {},
   "outputs": [
    {
     "name": "stdout",
     "output_type": "stream",
     "text": [
      "1000 800\n"
     ]
    }
   ],
   "source": [
    "# Split the data into train and test (80/20)\n",
    "threshold_factor = 0.8\n",
    "threshold_positive = int(threshold_factor*len(features_positive))\n",
    "threshold_negative = int(threshold_factor*len(features_negative))\n",
    "print (len(features_positive),threshold_negative)\n",
    "features_train = features_positive[:threshold_positive]+ features_negative[:threshold_negative]\n",
    "features_test = features_positive[threshold_positive:] + features_negative[threshold_negative:] "
   ]
  },
  {
   "cell_type": "code",
   "execution_count": 9,
   "metadata": {},
   "outputs": [
    {
     "name": "stdout",
     "output_type": "stream",
     "text": [
      "\n",
      "Accuracy of the classifier: 0.735\n"
     ]
    }
   ],
   "source": [
    "# Train a Naive Bayes classifier\n",
    "classifier = NaiveBayesClassifier.train(features_train)\n",
    "print (\"\\nAccuracy of the classifier:\",nltk.classify.util.accuracy(classifier, features_test))"
   ]
  },
  {
   "cell_type": "code",
   "execution_count": 10,
   "metadata": {},
   "outputs": [
    {
     "name": "stdout",
     "output_type": "stream",
     "text": [
      "\n",
      "Top 10 most informative words:\n",
      "outstanding\n",
      "insulting\n",
      "vulnerable\n",
      "ludicrous\n",
      "uninvolving\n",
      "avoids\n",
      "astounding\n",
      "fascination\n",
      "animators\n",
      "anna\n"
     ]
    }
   ],
   "source": [
    "print (\"\\nTop 10 most informative words:\")\n",
    "for item in classifier.most_informative_features()[:10]:\n",
    "    print (item[0])"
   ]
  },
  {
   "cell_type": "code",
   "execution_count": 17,
   "metadata": {},
   "outputs": [],
   "source": [
    "# Sample input reviews\n",
    "input_reviews = [\n",
    "    \"It is an amazing movie\",\"This is a dull movie. I would never recommend it toanyone.\",\n",
    "\"A complete and utter destruction of one of the mosticonic superheroes. 0.1 effort and thought put into thestoryline.\",\n",
    "\"A coming of age awkward teenage movie with age awkward teenage move with a'spiderman' stamp put on it.\",\n",
    "    \"Bad jokes aimed atteenagers (at best). A complete caricature of a villain,a complete caricature of a Spiderman.\",\n",
    "    \"Just please stopmaking this garbage Put some god damn effort! A totalwaste of time\",\n",
    "    \"Just staving off some negative reviews. Fits wellinto the Marvel movies to date and is an excellentfollow up to Avengers: Endgame.\"\n",
    "]"
   ]
  },
  {
   "cell_type": "code",
   "execution_count": 18,
   "metadata": {},
   "outputs": [
    {
     "name": "stdout",
     "output_type": "stream",
     "text": [
      "\n",
      "Predictions:\n",
      "\n",
      "Review: It is an amazing movie\n",
      "\n",
      "Review: This is a dull movie. I would never recommend it toanyone.\n",
      "\n",
      "Review: A complete and utter destruction of one of the mosticonic superheroes. 0.1 effort and thought put into thestoryline.\n",
      "\n",
      "Review: A coming of age awkward teenage movie with age awkward teenage move with a'spiderman' stamp put on it.\n",
      "\n",
      "Review: Bad jokes aimed atteenagers (at best). A complete caricature of a villain,a complete caricature of a Spiderman.\n",
      "\n",
      "Review: Just please stopmaking this garbage Put some god damn effort! A totalwaste of time\n",
      "\n",
      "Review: Just staving off some negative reviews. Fits wellinto the Marvel movies to date and is an excellentfollow up to Avengers: Endgame.\n",
      "Predicted sentiment: Positive\n",
      "Probability: 0.67\n"
     ]
    }
   ],
   "source": [
    "print (\"\\nPredictions:\")\n",
    "for review in input_reviews:\n",
    "    print (\"\\nReview:\", review)\n",
    "probdist =classifier.prob_classify(extract_features(review.split()))\n",
    "pred_sentiment = probdist.max()\n",
    "print (\"Predicted sentiment:\", pred_sentiment )\n",
    "print (\"Probability:\",round(probdist.prob(pred_sentiment), 2))"
   ]
  },
  {
   "cell_type": "code",
   "execution_count": null,
   "metadata": {},
   "outputs": [],
   "source": []
  },
  {
   "cell_type": "code",
   "execution_count": null,
   "metadata": {},
   "outputs": [],
   "source": []
  }
 ],
 "metadata": {
  "kernelspec": {
   "display_name": "Python 3",
   "language": "python",
   "name": "python3"
  },
  "language_info": {
   "codemirror_mode": {
    "name": "ipython",
    "version": 3
   },
   "file_extension": ".py",
   "mimetype": "text/x-python",
   "name": "python",
   "nbconvert_exporter": "python",
   "pygments_lexer": "ipython3",
   "version": "3.7.3"
  }
 },
 "nbformat": 4,
 "nbformat_minor": 2
}
